{
 "cells": [
  {
   "cell_type": "code",
   "execution_count": 1,
   "metadata": {},
   "outputs": [],
   "source": [
    "%gui qt5"
   ]
  },
  {
   "cell_type": "code",
   "execution_count": 2,
   "metadata": {},
   "outputs": [],
   "source": [
    "%matplotlib inline\n",
    "import matplotlib.pyplot as plt"
   ]
  },
  {
   "cell_type": "code",
   "execution_count": 3,
   "metadata": {},
   "outputs": [],
   "source": [
    "import starfish.data\n",
    "import numpy as np"
   ]
  },
  {
   "cell_type": "markdown",
   "metadata": {},
   "source": [
    "This notebook demonstrates how to load SeqFISH data into starfish. Below loads a fraction of fov_000, a single field of view from the Intron-SeqFISH paper. We load the test data as the full dataset is ~ 5GB and may be difficult for some laptops to load. "
   ]
  },
  {
   "cell_type": "code",
   "execution_count": 4,
   "metadata": {},
   "outputs": [],
   "source": [
    "experiment = starfish.data.SeqFISH(use_test_data=True)"
   ]
  },
  {
   "cell_type": "code",
   "execution_count": 5,
   "metadata": {},
   "outputs": [
    {
     "name": "stderr",
     "output_type": "stream",
     "text": [
      "100%|██████████| 1740/1740 [00:02<00:00, 805.97it/s]\n"
     ]
    }
   ],
   "source": [
    "fov = experiment['fov_000']\n",
    "stack = fov['primary']"
   ]
  },
  {
   "cell_type": "markdown",
   "metadata": {},
   "source": [
    "SeqFISH wants to find approximately identical numbers of spots in each round. Try a few filters to remove background. "
   ]
  },
  {
   "cell_type": "code",
   "execution_count": 6,
   "metadata": {},
   "outputs": [],
   "source": [
    "from starfish.image import Filter"
   ]
  },
  {
   "cell_type": "code",
   "execution_count": 7,
   "metadata": {},
   "outputs": [],
   "source": [
    "glp = Filter.GaussianLowPass(sigma=1)\n",
    "mhp = Filter.MeanHighPass(size=3)"
   ]
  },
  {
   "cell_type": "code",
   "execution_count": 8,
   "metadata": {},
   "outputs": [],
   "source": [
    "filtered = glp.run(stack, in_place=False)\n",
    "filtered = mhp.run(filtered, in_place=False)"
   ]
  },
  {
   "cell_type": "code",
   "execution_count": 14,
   "metadata": {},
   "outputs": [
    {
     "data": {
      "text/plain": [
       "(array([1.36254061e+08, 1.30014000e+05, 2.28870000e+04, 5.90000000e+03,\n",
       "        1.79400000e+03, 6.73000000e+02, 2.76000000e+02, 1.60000000e+02,\n",
       "        8.70000000e+01, 4.90000000e+01, 3.10000000e+01, 2.80000000e+01,\n",
       "        1.00000000e+01, 9.00000000e+00, 5.00000000e+00, 7.00000000e+00,\n",
       "        3.00000000e+00, 2.00000000e+00, 1.00000000e+00, 0.00000000e+00,\n",
       "        0.00000000e+00, 1.00000000e+00, 0.00000000e+00, 1.00000000e+00,\n",
       "        1.00000000e+00]),\n",
       " array([0.        , 0.00092621, 0.00185242, 0.00277863, 0.00370484,\n",
       "        0.00463104, 0.00555725, 0.00648346, 0.00740967, 0.00833588,\n",
       "        0.00926209, 0.0101883 , 0.01111451, 0.01204071, 0.01296692,\n",
       "        0.01389313, 0.01481934, 0.01574555, 0.01667176, 0.01759797,\n",
       "        0.01852418, 0.01945039, 0.02037659, 0.0213028 , 0.02222901,\n",
       "        0.02315522], dtype=float32),\n",
       " <a list of 25 Patch objects>)"
      ]
     },
     "execution_count": 14,
     "metadata": {},
     "output_type": "execute_result"
    },
    {
     "data": {
      "image/png": "[encoded data removed]",
      "text/plain": [
       "<Figure size 432x288 with 1 Axes>"
      ]
     },
     "metadata": {
      "needs_background": "light"
     },
     "output_type": "display_data"
    }
   ],
   "source": [
    "plt.hist(np.ravel(filtered.xarray.values), bins=25, log=True)"
   ]
  },
  {
   "cell_type": "code",
   "execution_count": 18,
   "metadata": {},
   "outputs": [],
   "source": [
    "from starfish.spots import SpotFinder"
   ]
  },
  {
   "cell_type": "code",
   "execution_count": null,
   "metadata": {},
   "outputs": [
    {
     "name": "stderr",
     "output_type": "stream",
     "text": [
      "100%|██████████| 1740/1740 [00:00<00:00, 18384.30it/s]\n"
     ]
    }
   ],
   "source": [
    "psd = SpotFinder.PixelSpotDetector(experiment.codebook, metric='euclidean', distance_threshold=0.5, magnitude_threshold=0.020, min_area=0, max_area=10)\n",
    "psd.run(filtered)"
   ]
  }
 ],
 "metadata": {
  "kernelspec": {
   "display_name": "starfish",
   "language": "python",
   "name": "starfish"
  },
  "language_info": {
   "codemirror_mode": {
    "name": "ipython",
    "version": 3
   },
   "file_extension": ".py",
   "mimetype": "text/x-python",
   "name": "python",
   "nbconvert_exporter": "python",
   "pygments_lexer": "ipython3",
   "version": "3.6.5"
  }
 },
 "nbformat": 4,
 "nbformat_minor": 2
}
