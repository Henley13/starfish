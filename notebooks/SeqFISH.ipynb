{
 "cells": [
  {
   "cell_type": "code",
   "execution_count": 2,
   "metadata": {},
   "outputs": [],
   "source": [
    "%gui qt5\n",
    "import napari_gui\n",
    "\n",
    "%matplotlib inline\n",
    "import matplotlib.pyplot as plt\n",
    "\n",
    "import starfish.data\n",
    "import numpy as np"
   ]
  },
  {
   "cell_type": "code",
   "execution_count": 140,
   "metadata": {},
   "outputs": [],
   "source": [
    "from starfish.image import Filter\n",
    "from starfish.spots import SpotFinder\n",
    "from starfish import IntensityTable\n",
    "from starfish.types import Features, Indices\n",
    "from starfish.spots._detector.combine_adjacent_features import CombineAdjacentFeatures"
   ]
  },
  {
   "cell_type": "markdown",
   "metadata": {},
   "source": [
    "This notebook demonstrates how to load SeqFISH data into starfish. Below loads a fraction of fov_000, a single field of view from the Intron-SeqFISH paper. We load the test data as the full dataset is ~ 5GB and may be difficult for some laptops to load. "
   ]
  },
  {
   "cell_type": "markdown",
   "metadata": {},
   "source": [
    "The experiment itself _also_ takes a while to load. Could this be due to localizing a ton of json? Think about this..."
   ]
  },
  {
   "cell_type": "code",
   "execution_count": 4,
   "metadata": {},
   "outputs": [],
   "source": [
    "experiment = starfish.data.SeqFISH(use_test_data=True)"
   ]
  },
  {
   "cell_type": "code",
   "execution_count": 5,
   "metadata": {},
   "outputs": [
    {
     "name": "stderr",
     "output_type": "stream",
     "text": [
      "100%|██████████| 1740/1740 [09:59<00:00,  2.57it/s]\n"
     ]
    }
   ],
   "source": [
    "fov = experiment['fov_000']\n",
    "stack = fov['primary']"
   ]
  },
  {
   "cell_type": "markdown",
   "metadata": {},
   "source": [
    "SeqFISH wants to find approximately identical numbers of spots in each round. Try a few filters to remove background. low pass plus mean high pass looks pretty good. "
   ]
  },
  {
   "cell_type": "code",
   "execution_count": 11,
   "metadata": {},
   "outputs": [],
   "source": [
    "glp = Filter.GaussianLowPass(sigma=1)\n",
    "mhp = Filter.MeanHighPass(size=3)"
   ]
  },
  {
   "cell_type": "code",
   "execution_count": 12,
   "metadata": {},
   "outputs": [
    {
     "name": "stderr",
     "output_type": "stream",
     "text": [
      "1740it [00:00, 2851.34it/s]\n",
      "1740it [00:00, 3269.24it/s]\n"
     ]
    }
   ],
   "source": [
    "filtered = glp.run(stack, in_place=False, verbose=True)\n",
    "filtered = mhp.run(filtered, in_place=False, verbose=True)"
   ]
  },
  {
   "cell_type": "markdown",
   "metadata": {},
   "source": [
    "Based on calculations (see below), it would take about 25 minutes to run the pixel spot detector. "
   ]
  },
  {
   "cell_type": "code",
   "execution_count": null,
   "metadata": {},
   "outputs": [],
   "source": [
    "# psd = SpotFinder.PixelSpotDetector(experiment.codebook, metric='euclidean', distance_threshold=0.5, magnitude_threshold=0.020, min_area=0, max_area=10)\n",
    "# psd.run(filtered)"
   ]
  },
  {
   "cell_type": "markdown",
   "metadata": {},
   "source": [
    "## Why does the spot detector take so long? \n",
    "break up its component parts and test"
   ]
  },
  {
   "cell_type": "code",
   "execution_count": 17,
   "metadata": {},
   "outputs": [
    {
     "name": "stderr",
     "output_type": "stream",
     "text": [
      "100%|██████████| 1740/1740 [00:00<00:00, 18595.09it/s]\n"
     ]
    }
   ],
   "source": [
    "pixel_intensities = IntensityTable.from_image_stack(filtered)"
   ]
  },
  {
   "cell_type": "markdown",
   "metadata": {},
   "source": [
    "Find a good magnitude cut-off"
   ]
  },
  {
   "cell_type": "code",
   "execution_count": 124,
   "metadata": {},
   "outputs": [
    {
     "data": {
      "image/png": "[encoded data removed]",
      "text/plain": [
       "<Figure size 432x288 with 1 Axes>"
      ]
     },
     "metadata": {
      "needs_background": "light"
     },
     "output_type": "display_data"
    }
   ],
   "source": [
    "magnitudes = np.sqrt(np.sum(pixel_intensities ** 2, axis=(1, 2)))\n",
    "plt.hist(magnitudes, log=True, bins=25);"
   ]
  },
  {
   "cell_type": "markdown",
   "metadata": {},
   "source": [
    "## Metric Decode takes a long time!\n",
    "Measure the time taken to decode increasing numbers of pixels. This happens because we don't filter. \n",
    "\n",
    "Future: evaluate if we can mask pixels so that they aren't included in the decoding, but still retain the array shape. Below we need to break a bunch of starfish stuff because the IntensityTable no longer contains all contiguous pixels. "
   ]
  },
  {
   "cell_type": "code",
   "execution_count": 31,
   "metadata": {},
   "outputs": [
    {
     "name": "stdout",
     "output_type": "stream",
     "text": [
      "854 ms ± 0 ns per loop (mean ± std. dev. of 1 run, 1 loop each)\n"
     ]
    }
   ],
   "source": [
    "%%timeit -n1 -r1\n",
    "decoded_intensities = experiment.codebook.metric_decode(\n",
    "    pixel_intensities[:1000],\n",
    "    max_distance=0.5,\n",
    "    min_intensity=0.01,\n",
    "    norm_order=2,\n",
    "    metric=\"euclidean\"\n",
    ")"
   ]
  },
  {
   "cell_type": "code",
   "execution_count": 32,
   "metadata": {},
   "outputs": [
    {
     "name": "stdout",
     "output_type": "stream",
     "text": [
      "6.68 s ± 0 ns per loop (mean ± std. dev. of 1 run, 1 loop each)\n"
     ]
    }
   ],
   "source": [
    "%%timeit -n1 -r1\n",
    "decoded_intensities = experiment.codebook.metric_decode(\n",
    "    pixel_intensities[:10000],\n",
    "    max_distance=0.5,\n",
    "    min_intensity=0.01,\n",
    "    norm_order=2,\n",
    "    metric=\"euclidean\"\n",
    ")"
   ]
  },
  {
   "cell_type": "code",
   "execution_count": 33,
   "metadata": {},
   "outputs": [
    {
     "name": "stdout",
     "output_type": "stream",
     "text": [
      "1min 5s ± 0 ns per loop (mean ± std. dev. of 1 run, 1 loop each)\n"
     ]
    }
   ],
   "source": [
    "%%timeit -n1 -r1\n",
    "decoded_intensities = experiment.codebook.metric_decode(\n",
    "    pixel_intensities[:100000],\n",
    "    max_distance=0.5,\n",
    "    min_intensity=0.01,\n",
    "    norm_order=2,\n",
    "    metric=\"euclidean\"\n",
    ")"
   ]
  },
  {
   "cell_type": "markdown",
   "metadata": {},
   "source": [
    "estimate the amount of time the pixel spot detector would take on this tiny test imagestack. "
   ]
  },
  {
   "cell_type": "code",
   "execution_count": 122,
   "metadata": {},
   "outputs": [
    {
     "data": {
      "text/plain": [
       "24.63066666666667"
      ]
     },
     "execution_count": 122,
     "metadata": {},
     "output_type": "execute_result"
    }
   ],
   "source": [
    "((pixel_intensities.shape[0] / 100000) * 65) / 60"
   ]
  },
  {
   "cell_type": "markdown",
   "metadata": {},
   "source": [
    "Continue decoding"
   ]
  },
  {
   "cell_type": "code",
   "execution_count": 48,
   "metadata": {},
   "outputs": [],
   "source": [
    "cb = experiment.codebook\n",
    "norm_order = 2\n",
    "min_intensity = 0.005\n",
    "metric = \"euclidean\"\n",
    "max_distance = 0.51\n",
    "cb._validate_decode_intensity_input_matches_codebook_shape(pixel_intensities)\n",
    "\n",
    "# normalize both the intensities and the codebook\n",
    "norm_intensities, norms = cb._normalize_features(pixel_intensities, norm_order=norm_order)\n",
    "norm_codes, _ = cb._normalize_features(cb, norm_order=norm_order)\n",
    "\n",
    "valid_intensities = norm_intensities[norms >= min_intensity]"
   ]
  },
  {
   "cell_type": "code",
   "execution_count": 49,
   "metadata": {},
   "outputs": [],
   "source": [
    "metric_outputs, targets = cb._approximate_nearest_code(\n",
    "    norm_codes, valid_intensities, metric=metric)"
   ]
  },
  {
   "cell_type": "code",
   "execution_count": 57,
   "metadata": {},
   "outputs": [],
   "source": [
    "# only targets with low distances and high intensities should be retained\n",
    "passes_filters = metric_outputs <= max_distance"
   ]
  },
  {
   "cell_type": "code",
   "execution_count": 61,
   "metadata": {},
   "outputs": [],
   "source": [
    "# set targets, distances, and filtering results\n",
    "valid_intensities[Features.TARGET] = (Features.AXIS, targets)\n",
    "valid_intensities[Features.DISTANCE] = (Features.AXIS, metric_outputs)\n",
    "valid_intensities[Features.PASSES_THRESHOLDS] = (Features.AXIS, passes_filters)\n",
    "\n",
    "# norm_intensities is a DataArray, make it back into an IntensityTable\n",
    "decoded_intensities = IntensityTable(valid_intensities)"
   ]
  },
  {
   "cell_type": "markdown",
   "metadata": {},
   "source": [
    "Almost nothing decodes given the parameters I used. What are the distances? "
   ]
  },
  {
   "cell_type": "code",
   "execution_count": 125,
   "metadata": {},
   "outputs": [
    {
     "data": {
      "image/png": "[encoded data removed]",
      "text/plain": [
       "<Figure size 432x288 with 1 Axes>"
      ]
     },
     "metadata": {
      "needs_background": "light"
     },
     "output_type": "display_data"
    }
   ],
   "source": [
    "plt.hist(decoded_intensities.distance, log=True);"
   ]
  },
  {
   "cell_type": "markdown",
   "metadata": {},
   "source": [
    "Pretend everything decodes and submit decoding pixels to the pixel spot detector."
   ]
  },
  {
   "cell_type": "code",
   "execution_count": 73,
   "metadata": {},
   "outputs": [],
   "source": [
    "decoded_intensities['passes_thresholds'] = (Features.AXIS, np.full_like(decoded_intensities.passes_thresholds, True))"
   ]
  },
  {
   "cell_type": "markdown",
   "metadata": {},
   "source": [
    "This doesn't work with masked features"
   ]
  },
  {
   "cell_type": "code",
   "execution_count": 77,
   "metadata": {},
   "outputs": [],
   "source": [
    "# min_area = 2\n",
    "# max_area = 20\n",
    "# caf = CombineAdjacentFeatures(\n",
    "#     min_area=min_area,\n",
    "#     max_area=max_area,\n",
    "#     mask_filtered_features=True\n",
    "# )\n",
    "# decoded_spots, image_decoding_results = caf.run(intensities=decoded_intensities)\n",
    "\n",
    "# return decoded_spots, image_decoding_results"
   ]
  },
  {
   "cell_type": "markdown",
   "metadata": {},
   "source": [
    "Because the array isn't contiguous, we'll need to make our own label image."
   ]
  },
  {
   "cell_type": "code",
   "execution_count": 84,
   "metadata": {},
   "outputs": [],
   "source": [
    "decoded_image = np.zeros(filtered.xarray.values.shape[-3:])\n",
    "gene_map = {v[1]: v[0] for v in enumerate(np.unique(decoded_intensities.target))}\n",
    "for feature in decoded_intensities:\n",
    "    decoded_image[int(feature.z), int(feature.y), int(feature.x)] = gene_map[str(feature.target.values)]\n",
    "\n",
    "decoded_image.shape"
   ]
  },
  {
   "cell_type": "markdown",
   "metadata": {},
   "source": [
    "View the original data and the new data alongside. We need to flip the array around a bunch because of how napari is coded. "
   ]
  },
  {
   "cell_type": "code",
   "execution_count": 118,
   "metadata": {},
   "outputs": [],
   "source": [
    "viewer = napari_gui.imshow(np.flip(np.flip(decoded_image.swapaxes(0, 2), 0), 1), multichannel=False)"
   ]
  },
  {
   "cell_type": "code",
   "execution_count": 119,
   "metadata": {},
   "outputs": [],
   "source": [
    "viewer2 = stack.show_stack_napari({})"
   ]
  },
  {
   "cell_type": "markdown",
   "metadata": {},
   "source": [
    "## Investigate normalizing the channels and then test whether the data we're using is registered"
   ]
  },
  {
   "cell_type": "code",
   "execution_count": 126,
   "metadata": {},
   "outputs": [],
   "source": [
    "from sklearn.preprocessing import quantile_transform\n",
    "from skimage.exposure import rescale_intensity"
   ]
  },
  {
   "cell_type": "code",
   "execution_count": 180,
   "metadata": {},
   "outputs": [],
   "source": [
    "clip = Filter.Clip(p_min=10, p_max=99.9)\n",
    "clipped = clip.run(stack)"
   ]
  },
  {
   "cell_type": "code",
   "execution_count": 181,
   "metadata": {},
   "outputs": [
    {
     "name": "stderr",
     "output_type": "stream",
     "text": [
      "100%|██████████| 145/145 [00:00<00:00, 16103.75it/s]\n",
      "100%|██████████| 3/3 [00:00<00:00, 2926.94it/s]\n"
     ]
    }
   ],
   "source": [
    "multichannel = clipped.max_proj(Indices.CH).sel({Indices.ROUND: (0, 3), Indices.Z: 9})\n",
    "multichannel = np.squeeze(multichannel.xarray.transpose('c', 'z', 'y', 'x', 'r')).values"
   ]
  },
  {
   "cell_type": "code",
   "execution_count": 182,
   "metadata": {},
   "outputs": [],
   "source": [
    "viewer = napari_gui.imshow(rescale_intensity(multichannel), multichannel=True)"
   ]
  },
  {
   "cell_type": "code",
   "execution_count": 158,
   "metadata": {},
   "outputs": [
    {
     "data": {
      "text/plain": [
       "<napari_gui.elements._viewer.Viewer at 0x13ad00d30>"
      ]
     },
     "execution_count": 158,
     "metadata": {},
     "output_type": "execute_result"
    }
   ],
   "source": [
    "napari_gui.imshow(multichannel, multichannel=True)"
   ]
  },
  {
   "cell_type": "code",
   "execution_count": null,
   "metadata": {},
   "outputs": [],
   "source": []
  }
 ],
 "metadata": {
  "kernelspec": {
   "display_name": "starfish",
   "language": "python",
   "name": "starfish"
  },
  "language_info": {
   "codemirror_mode": {
    "name": "ipython",
    "version": 3
   },
   "file_extension": ".py",
   "mimetype": "text/x-python",
   "name": "python",
   "nbconvert_exporter": "python",
   "pygments_lexer": "ipython3",
   "version": "3.6.5"
  }
 },
 "nbformat": 4,
 "nbformat_minor": 2
}
