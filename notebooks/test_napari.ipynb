{
 "cells": [
  {
   "cell_type": "markdown",
   "metadata": {},
   "source": [
    "# Demo show_spots_napari\n",
    "\n",
    "This notebook walks through using Napari to view starfish data."
   ]
  },
  {
   "cell_type": "code",
   "execution_count": 1,
   "metadata": {},
   "outputs": [],
   "source": [
    "%matplotlib inline\n",
    "%gui qt5\n",
    "\n",
    "import matplotlib.pyplot as plt\n",
    "import numpy as np\n",
    "import os\n",
    "\n",
    "from starfish import data, FieldOfView\n",
    "from starfish.types import Indices\n",
    "from starfish.image import Filter\n",
    "\n",
    "from starfish.imagestack.imagestack import ImageStack\n",
    "from starfish.intensity_table.intensity_table import IntensityTable"
   ]
  },
  {
   "cell_type": "markdown",
   "metadata": {},
   "source": [
    "## Load and view data\n",
    "First, we load the Allen Institute smFISH data. We can view the raw data by calling the ImageStack.show_stack_napari() method. We can provide indices (in the same style as get_slice() to slice the ImageStack."
   ]
  },
  {
   "cell_type": "code",
   "execution_count": 2,
   "metadata": {},
   "outputs": [
    {
     "name": "stderr",
     "output_type": "stream",
     "text": [
      "100%|██████████| 102/102 [00:04<00:00, 21.95it/s]\n"
     ]
    }
   ],
   "source": [
    "use_test_data = os.getenv(\"USE_TEST_DATA\") is not None\n",
    "experiment = data.allen_smFISH(use_test_data=use_test_data)\n",
    "primary_image = experiment.fov()[FieldOfView.PRIMARY_IMAGES]"
   ]
  },
  {
   "cell_type": "code",
   "execution_count": 3,
   "metadata": {},
   "outputs": [
    {
     "name": "stderr",
     "output_type": "stream",
     "text": [
      "/opt/local/Library/Frameworks/Python.framework/Versions/3.6/lib/python3.6/site-packages/vispy/visuals/isocurve.py:22: UserWarning: VisPy is not yet compatible with matplotlib 2.2+\n",
      "  warnings.warn(\"VisPy is not yet compatible with matplotlib 2.2+\")\n"
     ]
    },
    {
     "data": {
      "text/plain": [
       "(<napari_gui.elements._viewer.Viewer at 0x18513bba8>,\n",
       " [<Indices.ROUND: 'r'>, <Indices.CH: 'c'>, <Indices.Z: 'z'>])"
      ]
     },
     "execution_count": 3,
     "metadata": {},
     "output_type": "execute_result"
    }
   ],
   "source": [
    "primary_image.show_stack_napari({})"
   ]
  },
  {
   "cell_type": "markdown",
   "metadata": {},
   "source": [
    "## Visualize detected spots\n",
    "Next, we perform the image processing pipeline (from the Allen Institute smFISH demo notebook). To save time, we load the decoded and detected spots from disk. We can then view the spots overlaid on the 3D ImageStack using the plot.show_spots_napari() method. "
   ]
  },
  {
   "cell_type": "code",
   "execution_count": 5,
   "metadata": {},
   "outputs": [
    {
     "name": "stderr",
     "output_type": "stream",
     "text": [
      "102it [00:00, 202.79it/s]\n",
      "102it [00:00, 304.91it/s]\n",
      "3it [00:00, 104.66it/s]\n"
     ]
    },
    {
     "data": {
      "text/plain": [
       "<starfish.ImageStack (r: 1, c: 3, z: 34, y: 2048, x: 2048)>"
      ]
     },
     "execution_count": 5,
     "metadata": {},
     "output_type": "execute_result"
    }
   ],
   "source": [
    "# Filter the image\n",
    "\n",
    "clip = Filter.Clip(p_min=10, p_max=100)\n",
    "clip.run(primary_image, verbose=True, in_place=True)\n",
    "\n",
    "bandpass = Filter.Bandpass(lshort=0.5, llong=7, truncate=4)\n",
    "bandpass.run(primary_image, verbose=True, in_place=True)\n",
    "\n",
    "clip = Filter.Clip(p_min=10, p_max=100, is_volume=False)\n",
    "clip.run(primary_image, verbose=True, in_place=True)\n",
    "\n",
    "sigma=(1, 0, 0)  # filter only in z, do nothing in x, y\n",
    "glp = Filter.GaussianLowPass(sigma=sigma, is_volume=True)\n",
    "glp.run(primary_image, in_place=True, verbose=True)"
   ]
  },
  {
   "cell_type": "code",
   "execution_count": 3,
   "metadata": {},
   "outputs": [],
   "source": [
    "# Load the decoded data\n",
    "decoded = IntensityTable.load('allen_decoded')"
   ]
  },
  {
   "cell_type": "code",
   "execution_count": 7,
   "metadata": {},
   "outputs": [
    {
     "name": "stderr",
     "output_type": "stream",
     "text": [
      "100%|██████████| 34/34 [00:00<00:00, 106.80it/s]\n"
     ]
    },
    {
     "data": {
      "text/plain": [
       "<napari_gui.elements._viewer.Viewer at 0x1859f1a20>"
      ]
     },
     "execution_count": 7,
     "metadata": {},
     "output_type": "execute_result"
    }
   ],
   "source": [
    "import starfish.plot\n",
    "\n",
    "starfish.plot.show_spots_napari(spots=decoded, background_image=primary_image)"
   ]
  },
  {
   "cell_type": "code",
   "execution_count": null,
   "metadata": {},
   "outputs": [],
   "source": []
  }
 ],
 "metadata": {
  "kernelspec": {
   "display_name": "Python 3",
   "language": "python",
   "name": "python3"
  },
  "language_info": {
   "codemirror_mode": {
    "name": "ipython",
    "version": 3
   },
   "file_extension": ".py",
   "mimetype": "text/x-python",
   "name": "python",
   "nbconvert_exporter": "python",
   "pygments_lexer": "ipython3",
   "version": "3.6.4"
  }
 },
 "nbformat": 4,
 "nbformat_minor": 2
}
